{
 "cells": [
  {
   "cell_type": "markdown",
   "id": "ae5600e0-5ba9-4c98-94bd-ffce71c3f868",
   "metadata": {
    "tags": []
   },
   "source": [
    "# Phishing URL Machine Learning Model"
   ]
  },
  {
   "cell_type": "markdown",
   "id": "53f0d89f-af7f-4de0-ac49-3e2b25568aac",
   "metadata": {},
   "source": [
    "This notebook will contain the process to creating our machine learning model that will then be used for predictions on a url.\n",
    "\n",
    "<br>\n",
    "\n",
    "The process for this project:\n",
    "- Load Data\n",
    "    - Only use 2 columns\n",
    "    \n",
    "- Manipulate the URL\n",
    "    - Create Domain and Path\n",
    "    \n",
    "- Use sklearn's PIPELINE to create a machine learning model.\n",
    "\n"
   ]
  },
  {
   "cell_type": "markdown",
   "id": "c817a706-827d-441c-971b-be12098f82df",
   "metadata": {},
   "source": [
    "# Import Libraries"
   ]
  },
  {
   "cell_type": "code",
   "execution_count": 1,
   "id": "1e54bc06-8b7e-4784-9724-772963cf4090",
   "metadata": {},
   "outputs": [
    {
     "name": "stdout",
     "output_type": "stream",
     "text": [
      "[SUCCESS]\n"
     ]
    }
   ],
   "source": [
    "# Data Manipulation\n",
    "try:\n",
    "    import numpy as np\n",
    "    import pandas as pd\n",
    "\n",
    "    # Data Engineering / Machine learning\n",
    "    from sklearn.preprocessing import FunctionTransformer\n",
    "    from sklearn.feature_extraction import DictVectorizer\n",
    "    from sklearn.metrics import classification_report\n",
    "    from sklearn.pipeline import Pipeline\n",
    "    from sklearn.compose import ColumnTransformer\n",
    "    from sklearn.svm import LinearSVC\n",
    "    from sklearn.model_selection import train_test_split\n",
    "\n",
    "    # Create a pickle model\n",
    "    import cloudpickle\n",
    "\n",
    "    # Keep track when model was created\n",
    "    import datetime\n",
    "    \n",
    "    # File Path\n",
    "    from pathlib import Path\n",
    "\n",
    "    print('[SUCCESS]')\n",
    "\n",
    "#CATCH ERROR IMPORTING A LIBRARY\n",
    "except ImportError as ie:\n",
    "    raise ImportError(f'[Error importing]: {ie}')"
   ]
  },
  {
   "cell_type": "markdown",
   "id": "13a7b545-5b0e-4272-b137-cb4db746dabd",
   "metadata": {},
   "source": [
    "# Load Data"
   ]
  },
  {
   "cell_type": "markdown",
   "id": "73ec0af4-9181-4cd4-8a41-75519157df4f",
   "metadata": {},
   "source": [
    "The data was gathered from PhishStorm: Detecting Phishing using Streaming Analytics. You can find the details [here](https://ieeexplore.ieee.org/abstract/document/6975177)\n",
    "\n",
    "Our data consists of the following columns:\n",
    "\n",
    "['domain', 'ranking', 'mld_res', 'mld.ps_res', 'card_rem', 'ratio_Rrem','ratio_Arem', 'jaccard_RR', 'jaccard_RA', 'jaccard_AR', 'jaccard_AA','jaccard_ARrd', 'jaccard_ARrem', 'label']\n",
    "       \n",
    "Our main use for the dataset is to use the domain and label. We can go ahead and create our pandas dataframe on what we want."
   ]
  },
  {
   "cell_type": "code",
   "execution_count": 2,
   "id": "736b6c84-15fe-4d8c-9d67-289315954f5f",
   "metadata": {},
   "outputs": [
    {
     "name": "stderr",
     "output_type": "stream",
     "text": [
      "/tmp/ipykernel_128/1504385244.py:15: DtypeWarning: Columns (1,2,3,11,12) have mixed types. Specify dtype option on import or set low_memory=False.\n",
      "  df = pd.read_csv('urlset.csv', encoding_errors='ignore', on_bad_lines='skip')\n"
     ]
    },
    {
     "data": {
      "text/html": [
       "<div>\n",
       "<style scoped>\n",
       "    .dataframe tbody tr th:only-of-type {\n",
       "        vertical-align: middle;\n",
       "    }\n",
       "\n",
       "    .dataframe tbody tr th {\n",
       "        vertical-align: top;\n",
       "    }\n",
       "\n",
       "    .dataframe thead th {\n",
       "        text-align: right;\n",
       "    }\n",
       "</style>\n",
       "<table border=\"1\" class=\"dataframe\">\n",
       "  <thead>\n",
       "    <tr style=\"text-align: right;\">\n",
       "      <th></th>\n",
       "      <th>domain</th>\n",
       "      <th>label</th>\n",
       "    </tr>\n",
       "  </thead>\n",
       "  <tbody>\n",
       "    <tr>\n",
       "      <th>0</th>\n",
       "      <td>nobell.it/70ffb52d079109dca5664cce6f317373782/...</td>\n",
       "      <td>1.0</td>\n",
       "    </tr>\n",
       "    <tr>\n",
       "      <th>1</th>\n",
       "      <td>www.dghjdgf.com/paypal.co.uk/cycgi-bin/webscrc...</td>\n",
       "      <td>1.0</td>\n",
       "    </tr>\n",
       "    <tr>\n",
       "      <th>2</th>\n",
       "      <td>serviciosbys.com/paypal.cgi.bin.get-into.herf....</td>\n",
       "      <td>1.0</td>\n",
       "    </tr>\n",
       "    <tr>\n",
       "      <th>3</th>\n",
       "      <td>mail.printakid.com/www.online.americanexpress....</td>\n",
       "      <td>1.0</td>\n",
       "    </tr>\n",
       "    <tr>\n",
       "      <th>4</th>\n",
       "      <td>thewhiskeydregs.com/wp-content/themes/widescre...</td>\n",
       "      <td>1.0</td>\n",
       "    </tr>\n",
       "    <tr>\n",
       "      <th>5</th>\n",
       "      <td>smilesvoegol.servebbs.org/voegol.php</td>\n",
       "      <td>1.0</td>\n",
       "    </tr>\n",
       "    <tr>\n",
       "      <th>6</th>\n",
       "      <td>premierpaymentprocessing.com/includes/boleto-2...</td>\n",
       "      <td>1.0</td>\n",
       "    </tr>\n",
       "    <tr>\n",
       "      <th>7</th>\n",
       "      <td>myxxxcollection.com/v1/js/jih321/bpd.com.do/do...</td>\n",
       "      <td>1.0</td>\n",
       "    </tr>\n",
       "    <tr>\n",
       "      <th>8</th>\n",
       "      <td>super1000.info/docs</td>\n",
       "      <td>1.0</td>\n",
       "    </tr>\n",
       "    <tr>\n",
       "      <th>9</th>\n",
       "      <td>horizonsgallery.com/js/bin/ssl1/_id/www.paypal...</td>\n",
       "      <td>1.0</td>\n",
       "    </tr>\n",
       "  </tbody>\n",
       "</table>\n",
       "</div>"
      ],
      "text/plain": [
       "                                              domain  label\n",
       "0  nobell.it/70ffb52d079109dca5664cce6f317373782/...    1.0\n",
       "1  www.dghjdgf.com/paypal.co.uk/cycgi-bin/webscrc...    1.0\n",
       "2  serviciosbys.com/paypal.cgi.bin.get-into.herf....    1.0\n",
       "3  mail.printakid.com/www.online.americanexpress....    1.0\n",
       "4  thewhiskeydregs.com/wp-content/themes/widescre...    1.0\n",
       "5               smilesvoegol.servebbs.org/voegol.php    1.0\n",
       "6  premierpaymentprocessing.com/includes/boleto-2...    1.0\n",
       "7  myxxxcollection.com/v1/js/jih321/bpd.com.do/do...    1.0\n",
       "8                                super1000.info/docs    1.0\n",
       "9  horizonsgallery.com/js/bin/ssl1/_id/www.paypal...    1.0"
      ]
     },
     "execution_count": 2,
     "metadata": {},
     "output_type": "execute_result"
    }
   ],
   "source": [
    "def load_data():\n",
    "    \"\"\"\n",
    "    Function will check if file is in current directory, if it's not download the zip file and unzip.\n",
    "    Save dataset into a pandas dataframe.\n",
    "    Based on previous information regarding the columns, we will only use domain and label. \n",
    "    We will also drop na values.\n",
    "    \"\"\"\n",
    "    \n",
    "    path = Path('urlset.csv')\n",
    "    if not path.is_file():\n",
    "        !wget 'https://research.aalto.fi/files/16859732/urlset.csv.zip'\n",
    "        !unzip urlset.csv.zip\n",
    "    \n",
    "    \n",
    "    df = pd.read_csv('urlset.csv', encoding_errors='ignore', on_bad_lines='skip')\n",
    "    \n",
    "    df = df[['domain','label']]\n",
    "    df = df.dropna()\n",
    "\n",
    "    \n",
    "    return df\n",
    "\n",
    "df = load_data() # Run Function\n",
    "df.head(10)"
   ]
  },
  {
   "cell_type": "markdown",
   "id": "d542823e-63d6-4086-8fbd-6105cef1bac5",
   "metadata": {},
   "source": [
    "# URL Manipulation"
   ]
  },
  {
   "cell_type": "markdown",
   "id": "a62bf191-523f-49e9-bfa6-a04ca3edf9b0",
   "metadata": {},
   "source": [
    "The function below will be used to split our url into multiple parts.\n",
    "\n",
    "It will contain the domain and the path (everything after the first '/')"
   ]
  },
  {
   "cell_type": "code",
   "execution_count": 3,
   "id": "4f37fff1-ad2d-44a7-ba0a-35b7def75b6a",
   "metadata": {},
   "outputs": [],
   "source": [
    "def url_hacking(df):\n",
    "    \"\"\"\n",
    "    Given a data frame with column 'domain' that contains the full url, it will return a new dataframe with new feautres: domain and path.\n",
    "    \"\"\"\n",
    "    \n",
    "    # Set the domain as everything before the first /\n",
    "    col_domain = df['domain'].str.split('/').str[0]\n",
    "    \n",
    "    # Set the path as everything after first / but before any query string ?\n",
    "    path = df['domain'].str.split('/',1).str[1].fillna('')\n",
    "    col_path = path.str.split('?').str[0]\n",
    "    \n",
    "    # Create dataframe that will map to a pandas series\n",
    "    return pd.DataFrame(\n",
    "        {'domain': col_domain,\n",
    "         'path': col_path}\n",
    "    )\n",
    "\n",
    "url_transformer = FunctionTransformer(url_hacking)"
   ]
  },
  {
   "cell_type": "markdown",
   "id": "315c7596-f258-4af2-bc9c-8d66d15c5b84",
   "metadata": {},
   "source": [
    "# Feature Engineering"
   ]
  },
  {
   "cell_type": "markdown",
   "id": "c6a3ed41-5ddd-4ffc-8676-58eb7b23bbfc",
   "metadata": {},
   "source": [
    "Using our Domain and Path columns, we will create different features associated with them."
   ]
  },
  {
   "cell_type": "markdown",
   "id": "ee835bd8-3a5f-4735-9bc3-61c4cf2e831c",
   "metadata": {},
   "source": [
    "### Domain Feature Engineering"
   ]
  },
  {
   "cell_type": "code",
   "execution_count": 4,
   "id": "55cfaaa2-71fb-479e-905d-c808802de112",
   "metadata": {},
   "outputs": [],
   "source": [
    "def domain_feature_engineering(domain_list):\n",
    "    \"\"\"\n",
    "    This function will take in the domain column as a list.\n",
    "    \n",
    "    We will have have 4 features:\n",
    "    - length of domain\n",
    "    - number of dots in the domin\n",
    "    - top-level domain of the url\n",
    "    - sub domain of the url\n",
    "    \n",
    "    Function returns a list of dictionaries for each domain provided.\n",
    "    \"\"\"\n",
    "    \n",
    "    return [\n",
    "        {\n",
    "            \"length_domain\": len(domain),\n",
    "            \"count_of_dots\": domain.count('.'), \n",
    "            \"tld\": domain.rsplit('.')[-1],\n",
    "            \"subdomain\": domain.split('.')[0]\n",
    "        } for domain in domain_list\n",
    "    ]\n"
   ]
  },
  {
   "cell_type": "code",
   "execution_count": 5,
   "id": "85a7abbe-4846-4969-b21c-c543ad3abda5",
   "metadata": {},
   "outputs": [],
   "source": [
    "def path_feature_engineering(path_list):\n",
    "    \"\"\"\n",
    "    This function will takin the path column as a list.\n",
    "    \n",
    "    We will have 4 features:\n",
    "    - lenght of path\n",
    "    - number of slashes in path\n",
    "    - number of dots in path\n",
    "    \"\"\"\n",
    "    \n",
    "    return [\n",
    "        {\n",
    "            'length_path': len(path),\n",
    "            'count_of_slash': path.count('/'),\n",
    "            'count_dots':path.count('.')\n",
    "        } for path in path_list\n",
    "        \n",
    "    ]"
   ]
  },
  {
   "cell_type": "markdown",
   "id": "c879da06-beca-4a35-86c1-a27be1854f82",
   "metadata": {},
   "source": [
    "#### For testing"
   ]
  },
  {
   "cell_type": "code",
   "execution_count": null,
   "id": "c13cc82b-e021-4426-8c72-9a2211e61731",
   "metadata": {},
   "outputs": [
    {
     "data": {
      "text/html": [
       "<div>\n",
       "<style scoped>\n",
       "    .dataframe tbody tr th:only-of-type {\n",
       "        vertical-align: middle;\n",
       "    }\n",
       "\n",
       "    .dataframe tbody tr th {\n",
       "        vertical-align: top;\n",
       "    }\n",
       "\n",
       "    .dataframe thead th {\n",
       "        text-align: right;\n",
       "    }\n",
       "</style>\n",
       "<table border=\"1\" class=\"dataframe\">\n",
       "  <thead>\n",
       "    <tr style=\"text-align: right;\">\n",
       "      <th></th>\n",
       "      <th>domain</th>\n",
       "      <th>path</th>\n",
       "    </tr>\n",
       "  </thead>\n",
       "  <tbody>\n",
       "    <tr>\n",
       "      <th>0</th>\n",
       "      <td>nobell.it</td>\n",
       "      <td>70ffb52d079109dca5664cce6f317373782/login.SkyP...</td>\n",
       "    </tr>\n",
       "    <tr>\n",
       "      <th>1</th>\n",
       "      <td>www.dghjdgf.com</td>\n",
       "      <td>paypal.co.uk/cycgi-bin/webscrcmd=_home-custome...</td>\n",
       "    </tr>\n",
       "    <tr>\n",
       "      <th>2</th>\n",
       "      <td>serviciosbys.com</td>\n",
       "      <td>paypal.cgi.bin.get-into.herf.secure.dispatch35...</td>\n",
       "    </tr>\n",
       "    <tr>\n",
       "      <th>3</th>\n",
       "      <td>mail.printakid.com</td>\n",
       "      <td>www.online.americanexpress.com/index.html</td>\n",
       "    </tr>\n",
       "    <tr>\n",
       "      <th>4</th>\n",
       "      <td>thewhiskeydregs.com</td>\n",
       "      <td>wp-content/themes/widescreen/includes/temp/pro...</td>\n",
       "    </tr>\n",
       "  </tbody>\n",
       "</table>\n",
       "</div>"
      ],
      "text/plain": [
       "                domain                                               path\n",
       "0            nobell.it  70ffb52d079109dca5664cce6f317373782/login.SkyP...\n",
       "1      www.dghjdgf.com  paypal.co.uk/cycgi-bin/webscrcmd=_home-custome...\n",
       "2     serviciosbys.com  paypal.cgi.bin.get-into.herf.secure.dispatch35...\n",
       "3   mail.printakid.com          www.online.americanexpress.com/index.html\n",
       "4  thewhiskeydregs.com  wp-content/themes/widescreen/includes/temp/pro..."
      ]
     },
     "execution_count": 6,
     "metadata": {},
     "output_type": "execute_result"
    }
   ],
   "source": [
    "\"\"\"\n",
    "URL MANIPUTLATION TESTING\n",
    "\n",
    "We want to check that the URL provided is split up appropriately.\n",
    "\n",
    "Example:\n",
    "url = www.google.com/skjgnfksjfnksjfn/ksjnfdkjsndf/lohf.sjkdfksjnf\n",
    "\n",
    "Feed into url_hacking(df)\n",
    "\n",
    "Output:\n",
    "\n",
    "domain                path\n",
    "www.google.com        skjgnfksjfnksjfn/ksjnfdkjsndf/lohf.sjkdfksjnf\n",
    "\n",
    "\n",
    "\"\"\"\n",
    "test = url_hacking(df)\n",
    "test.head(5)"
   ]
  },
  {
   "cell_type": "code",
   "execution_count": 7,
   "id": "acb273f6-a661-4fdf-bfef-3aaa650de779",
   "metadata": {},
   "outputs": [
    {
     "name": "stdout",
     "output_type": "stream",
     "text": [
      "{'length_domain': 9, 'count_of_dots': 1, 'tld': 'it', 'subdomain': 'nobell'}\n",
      "{'length_domain': 15, 'count_of_dots': 2, 'tld': 'com', 'subdomain': 'www'}\n",
      "{'length_domain': 16, 'count_of_dots': 1, 'tld': 'com', 'subdomain': 'serviciosbys'}\n",
      "{'length_domain': 18, 'count_of_dots': 2, 'tld': 'com', 'subdomain': 'mail'}\n",
      "{'length_domain': 19, 'count_of_dots': 1, 'tld': 'com', 'subdomain': 'thewhiskeydregs'}\n",
      "{'length_domain': 25, 'count_of_dots': 2, 'tld': 'org', 'subdomain': 'smilesvoegol'}\n",
      "{'length_domain': 28, 'count_of_dots': 1, 'tld': 'com', 'subdomain': 'premierpaymentprocessing'}\n",
      "{'length_domain': 19, 'count_of_dots': 1, 'tld': 'com', 'subdomain': 'myxxxcollection'}\n",
      "{'length_domain': 14, 'count_of_dots': 1, 'tld': 'info', 'subdomain': 'super1000'}\n",
      "{'length_domain': 19, 'count_of_dots': 1, 'tld': 'com', 'subdomain': 'horizonsgallery'}\n"
     ]
    }
   ],
   "source": [
    "\"\"\"\n",
    "DOMAIN FEATURE ENGINEERING TEST\n",
    "\n",
    "We want to make sure that if a list of domains is provided to the function, it will return\n",
    "length of domain, count of dots in domain, top-level domain, and subdomain.\n",
    "\n",
    "Example\n",
    "url = www.google.com\n",
    "\n",
    "Output:\n",
    "{'length_domain': 14, 'count_of_dots': 2, 'tld': '.com', 'subdomain':'www'}\n",
    "\n",
    "\n",
    "\"\"\"\n",
    "\n",
    "\n",
    "domain_list = test['domain'].tolist()\n",
    "dl = domain_list[:10]\n",
    "output_test_domain = domain_feature_engineering(dl)\n",
    "for i in output_test_domain:\n",
    "    print(i)"
   ]
  },
  {
   "cell_type": "code",
   "execution_count": 8,
   "id": "b225e7b1-b8f0-4606-b9b5-f03afb1d0c9a",
   "metadata": {},
   "outputs": [
    {
     "name": "stdout",
     "output_type": "stream",
     "text": [
      "{'length_path': 124, 'count_of_slash': 7, 'count_dots': 3}\n",
      "{'length_path': 65, 'count_of_slash': 3, 'count_dots': 3}\n",
      "{'length_path': 160, 'count_of_slash': 10, 'count_dots': 6}\n",
      "{'length_path': 41, 'count_of_slash': 1, 'count_dots': 4}\n",
      "{'length_path': 59, 'count_of_slash': 6, 'count_dots': 0}\n",
      "{'length_path': 10, 'count_of_slash': 0, 'count_dots': 1}\n",
      "{'length_path': 32, 'count_of_slash': 1, 'count_dots': 1}\n",
      "{'length_path': 40, 'count_of_slash': 5, 'count_dots': 4}\n",
      "{'length_path': 4, 'count_of_slash': 0, 'count_dots': 0}\n",
      "{'length_path': 80, 'count_of_slash': 9, 'count_dots': 3}\n"
     ]
    }
   ],
   "source": [
    "\"\"\"\n",
    "PATH FEATURE ENGINEERING TEST\n",
    "\n",
    "We want to make sure that if a list of paths is provided to the function, it will return\n",
    "length of path, count of dots in path and count of slashes in path.\n",
    "\n",
    "Example\n",
    "path = lohf.sjkdfksjn\n",
    "\n",
    "Output:\n",
    "{'length_path': 14, 'count_of_slash': 0, 'count_of_dots': 1}\n",
    "\n",
    "\n",
    "\"\"\"\n",
    "\n",
    "\n",
    "path_list = test['path'].tolist()\n",
    "pl = path_list[:10]\n",
    "output_test_path = path_feature_engineering(pl)\n",
    "for i in output_test_path:\n",
    "    print(i)"
   ]
  },
  {
   "cell_type": "code",
   "execution_count": null,
   "id": "54402300-40b4-4e9f-9ad0-a15d9c6444d0",
   "metadata": {},
   "outputs": [],
   "source": []
  }
 ],
 "metadata": {
  "kernelspec": {
   "display_name": "Python 3 (ipykernel)",
   "language": "python",
   "name": "python3"
  },
  "language_info": {
   "codemirror_mode": {
    "name": "ipython",
    "version": 3
   },
   "file_extension": ".py",
   "mimetype": "text/x-python",
   "name": "python",
   "nbconvert_exporter": "python",
   "pygments_lexer": "ipython3",
   "version": "3.9.7"
  }
 },
 "nbformat": 4,
 "nbformat_minor": 5
}
