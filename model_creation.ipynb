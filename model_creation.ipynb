{
 "cells": [
  {
   "cell_type": "markdown",
   "id": "ae5600e0-5ba9-4c98-94bd-ffce71c3f868",
   "metadata": {
    "tags": []
   },
   "source": [
    "# Phishing URL Machine Learning Model"
   ]
  },
  {
   "cell_type": "markdown",
   "id": "53f0d89f-af7f-4de0-ac49-3e2b25568aac",
   "metadata": {},
   "source": [
    "This notebook will contain the process to creating our machine learning model that will then be used for predictions on a url."
   ]
  },
  {
   "cell_type": "markdown",
   "id": "c817a706-827d-441c-971b-be12098f82df",
   "metadata": {},
   "source": [
    "# Import Libraries"
   ]
  },
  {
   "cell_type": "code",
   "execution_count": 5,
   "id": "1e54bc06-8b7e-4784-9724-772963cf4090",
   "metadata": {},
   "outputs": [
    {
     "name": "stdout",
     "output_type": "stream",
     "text": [
      "[SUCCESS]\n"
     ]
    }
   ],
   "source": [
    "# Data Manipulation\n",
    "try:\n",
    "    import numpy as np\n",
    "    import pandas as pd\n",
    "\n",
    "    # Data Engineering / Machine learning\n",
    "    from sklearn.preprocessing import FunctionTransformer\n",
    "    from sklearn.feature_extraction import DictVectorizer\n",
    "    from sklearn.metrics import classification_report\n",
    "    from sklearn.pipeline import Pipeline\n",
    "    from sklearn.compose import ColumnTransformer\n",
    "    from sklearn.svm import LinearSVC\n",
    "    from sklearn.model_selection import train_test_split\n",
    "\n",
    "    # Create a pickle model\n",
    "    import cloudpickle\n",
    "\n",
    "    # Keep track when model was created\n",
    "    import datetime\n",
    "    \n",
    "    # File Path\n",
    "    from pathlib import Path\n",
    "\n",
    "    print('[SUCCESS]')\n",
    "\n",
    "#CATCH ERROR IMPORTING A LIBRARY\n",
    "except ImportError as ie:\n",
    "    raise ImportError(f'[Error importing]: {ie}')"
   ]
  },
  {
   "cell_type": "markdown",
   "id": "13a7b545-5b0e-4272-b137-cb4db746dabd",
   "metadata": {},
   "source": [
    "# Load Data"
   ]
  },
  {
   "cell_type": "markdown",
   "id": "73ec0af4-9181-4cd4-8a41-75519157df4f",
   "metadata": {},
   "source": [
    "The data was gathered from PhishStorm: Detecting Phishing using Streaming Analytics. You can find the details [here](https://ieeexplore.ieee.org/abstract/document/6975177)\n",
    "\n",
    "Our data consists of the following columns:\n",
    "\n",
    "['domain', 'ranking', 'mld_res', 'mld.ps_res', 'card_rem', 'ratio_Rrem','ratio_Arem', 'jaccard_RR', 'jaccard_RA', 'jaccard_AR', 'jaccard_AA','jaccard_ARrd', 'jaccard_ARrem', 'label']\n",
    "       \n",
    "Our main use for the dataset is to use the domain and label. We can go ahead and create our pandas dataframe on what we want."
   ]
  },
  {
   "cell_type": "code",
   "execution_count": 10,
   "id": "736b6c84-15fe-4d8c-9d67-289315954f5f",
   "metadata": {},
   "outputs": [
    {
     "name": "stderr",
     "output_type": "stream",
     "text": [
      "/tmp/ipykernel_51/355376344.py:15: DtypeWarning: Columns (1,2,3,11,12) have mixed types. Specify dtype option on import or set low_memory=False.\n",
      "  df = pd.read_csv('urlset.csv', encoding_errors='ignore', on_bad_lines='skip')\n"
     ]
    }
   ],
   "source": [
    "def load_data():\n",
    "    \"\"\"\n",
    "    Function will check if file is in current directory, if it's not download the zip file and unzip.\n",
    "    Save dataset into a pandas dataframe.\n",
    "    Based on previous information regarding the columns, we will only use domain and label. \n",
    "    We will also drop na values.\n",
    "    \"\"\"\n",
    "    \n",
    "    path = Path('urlset.csv')\n",
    "    if not path.is_file():\n",
    "        !wget 'https://research.aalto.fi/files/16859732/urlset.csv.zip'\n",
    "        !unzip urlset.csv.zip\n",
    "    \n",
    "    \n",
    "    df = pd.read_csv('urlset.csv', encoding_errors='ignore', on_bad_lines='skip')\n",
    "    \n",
    "    df = df[['domain','label']]\n",
    "    df = df.dropna()\n",
    "\n",
    "    \n",
    "    return df\n",
    "\n",
    "df = load_data() # Run Function"
   ]
  },
  {
   "cell_type": "code",
   "execution_count": 11,
   "id": "478a57d4-46d7-4fbb-be08-c0d389e5eb19",
   "metadata": {},
   "outputs": [
    {
     "data": {
      "text/html": [
       "<div>\n",
       "<style scoped>\n",
       "    .dataframe tbody tr th:only-of-type {\n",
       "        vertical-align: middle;\n",
       "    }\n",
       "\n",
       "    .dataframe tbody tr th {\n",
       "        vertical-align: top;\n",
       "    }\n",
       "\n",
       "    .dataframe thead th {\n",
       "        text-align: right;\n",
       "    }\n",
       "</style>\n",
       "<table border=\"1\" class=\"dataframe\">\n",
       "  <thead>\n",
       "    <tr style=\"text-align: right;\">\n",
       "      <th></th>\n",
       "      <th>domain</th>\n",
       "      <th>label</th>\n",
       "    </tr>\n",
       "  </thead>\n",
       "  <tbody>\n",
       "    <tr>\n",
       "      <th>0</th>\n",
       "      <td>nobell.it/70ffb52d079109dca5664cce6f317373782/...</td>\n",
       "      <td>1.0</td>\n",
       "    </tr>\n",
       "    <tr>\n",
       "      <th>1</th>\n",
       "      <td>www.dghjdgf.com/paypal.co.uk/cycgi-bin/webscrc...</td>\n",
       "      <td>1.0</td>\n",
       "    </tr>\n",
       "    <tr>\n",
       "      <th>2</th>\n",
       "      <td>serviciosbys.com/paypal.cgi.bin.get-into.herf....</td>\n",
       "      <td>1.0</td>\n",
       "    </tr>\n",
       "    <tr>\n",
       "      <th>3</th>\n",
       "      <td>mail.printakid.com/www.online.americanexpress....</td>\n",
       "      <td>1.0</td>\n",
       "    </tr>\n",
       "    <tr>\n",
       "      <th>4</th>\n",
       "      <td>thewhiskeydregs.com/wp-content/themes/widescre...</td>\n",
       "      <td>1.0</td>\n",
       "    </tr>\n",
       "  </tbody>\n",
       "</table>\n",
       "</div>"
      ],
      "text/plain": [
       "                                              domain  label\n",
       "0  nobell.it/70ffb52d079109dca5664cce6f317373782/...    1.0\n",
       "1  www.dghjdgf.com/paypal.co.uk/cycgi-bin/webscrc...    1.0\n",
       "2  serviciosbys.com/paypal.cgi.bin.get-into.herf....    1.0\n",
       "3  mail.printakid.com/www.online.americanexpress....    1.0\n",
       "4  thewhiskeydregs.com/wp-content/themes/widescre...    1.0"
      ]
     },
     "execution_count": 11,
     "metadata": {},
     "output_type": "execute_result"
    }
   ],
   "source": [
    "df.head()"
   ]
  },
  {
   "cell_type": "markdown",
   "id": "d542823e-63d6-4086-8fbd-6105cef1bac5",
   "metadata": {},
   "source": [
    "# URL Manipulation"
   ]
  },
  {
   "cell_type": "markdown",
   "id": "a62bf191-523f-49e9-bfa6-a04ca3edf9b0",
   "metadata": {},
   "source": [
    "The function below will be used to split our url into multiple parts.\n",
    "\n",
    "It will contain the domain and the path (everything after the first '/')"
   ]
  },
  {
   "cell_type": "code",
   "execution_count": 15,
   "id": "4f37fff1-ad2d-44a7-ba0a-35b7def75b6a",
   "metadata": {},
   "outputs": [
    {
     "data": {
      "text/html": [
       "<div>\n",
       "<style scoped>\n",
       "    .dataframe tbody tr th:only-of-type {\n",
       "        vertical-align: middle;\n",
       "    }\n",
       "\n",
       "    .dataframe tbody tr th {\n",
       "        vertical-align: top;\n",
       "    }\n",
       "\n",
       "    .dataframe thead th {\n",
       "        text-align: right;\n",
       "    }\n",
       "</style>\n",
       "<table border=\"1\" class=\"dataframe\">\n",
       "  <thead>\n",
       "    <tr style=\"text-align: right;\">\n",
       "      <th></th>\n",
       "      <th>domain</th>\n",
       "      <th>path</th>\n",
       "    </tr>\n",
       "  </thead>\n",
       "  <tbody>\n",
       "    <tr>\n",
       "      <th>0</th>\n",
       "      <td>nobell.it</td>\n",
       "      <td>70ffb52d079109dca5664cce6f317373782/login.SkyP...</td>\n",
       "    </tr>\n",
       "    <tr>\n",
       "      <th>1</th>\n",
       "      <td>www.dghjdgf.com</td>\n",
       "      <td>paypal.co.uk/cycgi-bin/webscrcmd=_home-custome...</td>\n",
       "    </tr>\n",
       "    <tr>\n",
       "      <th>2</th>\n",
       "      <td>serviciosbys.com</td>\n",
       "      <td>paypal.cgi.bin.get-into.herf.secure.dispatch35...</td>\n",
       "    </tr>\n",
       "    <tr>\n",
       "      <th>3</th>\n",
       "      <td>mail.printakid.com</td>\n",
       "      <td>www.online.americanexpress.com/index.html</td>\n",
       "    </tr>\n",
       "    <tr>\n",
       "      <th>4</th>\n",
       "      <td>thewhiskeydregs.com</td>\n",
       "      <td>wp-content/themes/widescreen/includes/temp/pro...</td>\n",
       "    </tr>\n",
       "    <tr>\n",
       "      <th>5</th>\n",
       "      <td>smilesvoegol.servebbs.org</td>\n",
       "      <td>voegol.php</td>\n",
       "    </tr>\n",
       "    <tr>\n",
       "      <th>6</th>\n",
       "      <td>premierpaymentprocessing.com</td>\n",
       "      <td>includes/boleto-2via-07-2012.php</td>\n",
       "    </tr>\n",
       "    <tr>\n",
       "      <th>7</th>\n",
       "      <td>myxxxcollection.com</td>\n",
       "      <td>v1/js/jih321/bpd.com.do/do/l.popular.php</td>\n",
       "    </tr>\n",
       "    <tr>\n",
       "      <th>8</th>\n",
       "      <td>super1000.info</td>\n",
       "      <td>docs</td>\n",
       "    </tr>\n",
       "    <tr>\n",
       "      <th>9</th>\n",
       "      <td>horizonsgallery.com</td>\n",
       "      <td>js/bin/ssl1/_id/www.paypal.com/fr/cgi-bin/webs...</td>\n",
       "    </tr>\n",
       "  </tbody>\n",
       "</table>\n",
       "</div>"
      ],
      "text/plain": [
       "                         domain  \\\n",
       "0                     nobell.it   \n",
       "1               www.dghjdgf.com   \n",
       "2              serviciosbys.com   \n",
       "3            mail.printakid.com   \n",
       "4           thewhiskeydregs.com   \n",
       "5     smilesvoegol.servebbs.org   \n",
       "6  premierpaymentprocessing.com   \n",
       "7           myxxxcollection.com   \n",
       "8                super1000.info   \n",
       "9           horizonsgallery.com   \n",
       "\n",
       "                                                path  \n",
       "0  70ffb52d079109dca5664cce6f317373782/login.SkyP...  \n",
       "1  paypal.co.uk/cycgi-bin/webscrcmd=_home-custome...  \n",
       "2  paypal.cgi.bin.get-into.herf.secure.dispatch35...  \n",
       "3          www.online.americanexpress.com/index.html  \n",
       "4  wp-content/themes/widescreen/includes/temp/pro...  \n",
       "5                                         voegol.php  \n",
       "6                   includes/boleto-2via-07-2012.php  \n",
       "7           v1/js/jih321/bpd.com.do/do/l.popular.php  \n",
       "8                                               docs  \n",
       "9  js/bin/ssl1/_id/www.paypal.com/fr/cgi-bin/webs...  "
      ]
     },
     "execution_count": 15,
     "metadata": {},
     "output_type": "execute_result"
    }
   ],
   "source": [
    "def url_hacking(df):\n",
    "    \"\"\"\n",
    "    Given a data frame with column 'domain' that contains the full url, it will return a new dataframe with new feautres: domain and path.\n",
    "    \"\"\"\n",
    "    \n",
    "    # Set the domain as everything before the first /\n",
    "    col_domain = df['domain'].str.split('/').str[0]\n",
    "    \n",
    "    # Set the path as everything after first / but before any query string ?\n",
    "    path = df['domain'].str.split('/',1).str[1].fillna('')\n",
    "    col_path = path.str.split('?').str[0]\n",
    "    \n",
    "    # Create dataframe that will map to a pandas series\n",
    "    return pd.DataFrame(\n",
    "        {'domain': col_domain,\n",
    "         'path': col_path}\n",
    "    )\n",
    "# Let's take a look at our new data\n",
    "test = url_hacking(df)\n",
    "test.head(10)"
   ]
  },
  {
   "cell_type": "code",
   "execution_count": null,
   "id": "4c3ac4a4-6fb4-4b1e-8483-636bd1f1d3ef",
   "metadata": {},
   "outputs": [],
   "source": []
  }
 ],
 "metadata": {
  "kernelspec": {
   "display_name": "Python 3 (ipykernel)",
   "language": "python",
   "name": "python3"
  },
  "language_info": {
   "codemirror_mode": {
    "name": "ipython",
    "version": 3
   },
   "file_extension": ".py",
   "mimetype": "text/x-python",
   "name": "python",
   "nbconvert_exporter": "python",
   "pygments_lexer": "ipython3",
   "version": "3.9.7"
  }
 },
 "nbformat": 4,
 "nbformat_minor": 5
}
