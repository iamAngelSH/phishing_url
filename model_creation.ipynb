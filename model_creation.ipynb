{
 "cells": [
  {
   "cell_type": "markdown",
   "id": "ae5600e0-5ba9-4c98-94bd-ffce71c3f868",
   "metadata": {
    "tags": []
   },
   "source": [
    "# Phishing URL Machine Learning Model"
   ]
  },
  {
   "cell_type": "markdown",
   "id": "53f0d89f-af7f-4de0-ac49-3e2b25568aac",
   "metadata": {},
   "source": [
    "This notebook will contain the process to creating our machine learning model that will then be used for predictions on a url.\n",
    "\n",
    "<br>\n",
    "\n",
    "The process for this project:\n",
    "- [Load Data]()\n",
    "    - Only use 2 columns\n",
    "    \n",
    "- Manipulate the URL\n",
    "    - Create Domain and Path\n",
    "    \n",
    "- Use sklearn's PIPELINE to create a machine learning model.\n",
    "\n"
   ]
  },
  {
   "cell_type": "markdown",
   "id": "c817a706-827d-441c-971b-be12098f82df",
   "metadata": {},
   "source": [
    "# Import Libraries"
   ]
  },
  {
   "cell_type": "code",
   "execution_count": 1,
   "id": "1e54bc06-8b7e-4784-9724-772963cf4090",
   "metadata": {},
   "outputs": [
    {
     "name": "stdout",
     "output_type": "stream",
     "text": [
      "[SUCCESS]\n"
     ]
    }
   ],
   "source": [
    "# Data Manipulation\n",
    "try:\n",
    "    import numpy as np\n",
    "    import pandas as pd\n",
    "\n",
    "    # Data Engineering / Machine learning\n",
    "    from sklearn.preprocessing import FunctionTransformer\n",
    "    from sklearn.feature_extraction import DictVectorizer\n",
    "    from sklearn.model_selection import GridSearchCV\n",
    "    from sklearn.metrics import classification_report\n",
    "    from sklearn.pipeline import Pipeline\n",
    "    from sklearn.compose import ColumnTransformer\n",
    "    from sklearn.svm import SVC\n",
    "    from sklearn.model_selection import train_test_split\n",
    "    from sklearn import set_config\n",
    "\n",
    "    # Create a pickle model\n",
    "    import cloudpickle\n",
    "\n",
    "    # Keep track when model was created\n",
    "    import datetime\n",
    "    \n",
    "    # File Path\n",
    "    from pathlib import Path\n",
    "\n",
    "    print('[SUCCESS]')\n",
    "\n",
    "#CATCH ERROR IMPORTING A LIBRARY\n",
    "except ImportError as ie:\n",
    "    raise ImportError(f'[Error importing]: {ie}')"
   ]
  },
  {
   "cell_type": "markdown",
   "id": "13a7b545-5b0e-4272-b137-cb4db746dabd",
   "metadata": {},
   "source": [
    "# Load Data"
   ]
  },
  {
   "cell_type": "markdown",
   "id": "73ec0af4-9181-4cd4-8a41-75519157df4f",
   "metadata": {},
   "source": [
    "The data was gathered from PhishStorm: Detecting Phishing using Streaming Analytics. You can find the details [here](https://ieeexplore.ieee.org/abstract/document/6975177)\n",
    "\n",
    "Our data consists of the following columns:\n",
    "\n",
    "['domain', 'ranking', 'mld_res', 'mld.ps_res', 'card_rem', 'ratio_Rrem','ratio_Arem', 'jaccard_RR', 'jaccard_RA', 'jaccard_AR', 'jaccard_AA','jaccard_ARrd', 'jaccard_ARrem', 'label']\n",
    "       \n",
    "Our main use for the dataset is to use the domain and label. We can go ahead and create our pandas dataframe on what we want."
   ]
  },
  {
   "cell_type": "code",
   "execution_count": 2,
   "id": "736b6c84-15fe-4d8c-9d67-289315954f5f",
   "metadata": {},
   "outputs": [
    {
     "name": "stderr",
     "output_type": "stream",
     "text": [
      "/tmp/ipykernel_51/1504385244.py:15: DtypeWarning: Columns (1,2,3,11,12) have mixed types. Specify dtype option on import or set low_memory=False.\n",
      "  df = pd.read_csv('urlset.csv', encoding_errors='ignore', on_bad_lines='skip')\n"
     ]
    },
    {
     "data": {
      "text/html": [
       "<div>\n",
       "<style scoped>\n",
       "    .dataframe tbody tr th:only-of-type {\n",
       "        vertical-align: middle;\n",
       "    }\n",
       "\n",
       "    .dataframe tbody tr th {\n",
       "        vertical-align: top;\n",
       "    }\n",
       "\n",
       "    .dataframe thead th {\n",
       "        text-align: right;\n",
       "    }\n",
       "</style>\n",
       "<table border=\"1\" class=\"dataframe\">\n",
       "  <thead>\n",
       "    <tr style=\"text-align: right;\">\n",
       "      <th></th>\n",
       "      <th>domain</th>\n",
       "      <th>label</th>\n",
       "    </tr>\n",
       "  </thead>\n",
       "  <tbody>\n",
       "    <tr>\n",
       "      <th>0</th>\n",
       "      <td>nobell.it/70ffb52d079109dca5664cce6f317373782/...</td>\n",
       "      <td>1.0</td>\n",
       "    </tr>\n",
       "    <tr>\n",
       "      <th>1</th>\n",
       "      <td>www.dghjdgf.com/paypal.co.uk/cycgi-bin/webscrc...</td>\n",
       "      <td>1.0</td>\n",
       "    </tr>\n",
       "    <tr>\n",
       "      <th>2</th>\n",
       "      <td>serviciosbys.com/paypal.cgi.bin.get-into.herf....</td>\n",
       "      <td>1.0</td>\n",
       "    </tr>\n",
       "    <tr>\n",
       "      <th>3</th>\n",
       "      <td>mail.printakid.com/www.online.americanexpress....</td>\n",
       "      <td>1.0</td>\n",
       "    </tr>\n",
       "    <tr>\n",
       "      <th>4</th>\n",
       "      <td>thewhiskeydregs.com/wp-content/themes/widescre...</td>\n",
       "      <td>1.0</td>\n",
       "    </tr>\n",
       "    <tr>\n",
       "      <th>5</th>\n",
       "      <td>smilesvoegol.servebbs.org/voegol.php</td>\n",
       "      <td>1.0</td>\n",
       "    </tr>\n",
       "    <tr>\n",
       "      <th>6</th>\n",
       "      <td>premierpaymentprocessing.com/includes/boleto-2...</td>\n",
       "      <td>1.0</td>\n",
       "    </tr>\n",
       "    <tr>\n",
       "      <th>7</th>\n",
       "      <td>myxxxcollection.com/v1/js/jih321/bpd.com.do/do...</td>\n",
       "      <td>1.0</td>\n",
       "    </tr>\n",
       "    <tr>\n",
       "      <th>8</th>\n",
       "      <td>super1000.info/docs</td>\n",
       "      <td>1.0</td>\n",
       "    </tr>\n",
       "    <tr>\n",
       "      <th>9</th>\n",
       "      <td>horizonsgallery.com/js/bin/ssl1/_id/www.paypal...</td>\n",
       "      <td>1.0</td>\n",
       "    </tr>\n",
       "  </tbody>\n",
       "</table>\n",
       "</div>"
      ],
      "text/plain": [
       "                                              domain  label\n",
       "0  nobell.it/70ffb52d079109dca5664cce6f317373782/...    1.0\n",
       "1  www.dghjdgf.com/paypal.co.uk/cycgi-bin/webscrc...    1.0\n",
       "2  serviciosbys.com/paypal.cgi.bin.get-into.herf....    1.0\n",
       "3  mail.printakid.com/www.online.americanexpress....    1.0\n",
       "4  thewhiskeydregs.com/wp-content/themes/widescre...    1.0\n",
       "5               smilesvoegol.servebbs.org/voegol.php    1.0\n",
       "6  premierpaymentprocessing.com/includes/boleto-2...    1.0\n",
       "7  myxxxcollection.com/v1/js/jih321/bpd.com.do/do...    1.0\n",
       "8                                super1000.info/docs    1.0\n",
       "9  horizonsgallery.com/js/bin/ssl1/_id/www.paypal...    1.0"
      ]
     },
     "execution_count": 2,
     "metadata": {},
     "output_type": "execute_result"
    }
   ],
   "source": [
    "def load_data():\n",
    "    \"\"\"\n",
    "    Function will check if file is in current directory, if it's not download the zip file and unzip.\n",
    "    Save dataset into a pandas dataframe.\n",
    "    Based on previous information regarding the columns, we will only use domain and label. \n",
    "    We will also drop na values.\n",
    "    \"\"\"\n",
    "    \n",
    "    path = Path('urlset.csv')\n",
    "    if not path.is_file():\n",
    "        !wget 'https://research.aalto.fi/files/16859732/urlset.csv.zip'\n",
    "        !unzip urlset.csv.zip\n",
    "    \n",
    "    \n",
    "    df = pd.read_csv('urlset.csv', encoding_errors='ignore', on_bad_lines='skip')\n",
    "    \n",
    "    df = df[['domain','label']]\n",
    "    df = df.dropna()\n",
    "\n",
    "    \n",
    "    return df\n",
    "\n",
    "df = load_data() # Run Function\n",
    "df.head(10)"
   ]
  },
  {
   "cell_type": "markdown",
   "id": "d542823e-63d6-4086-8fbd-6105cef1bac5",
   "metadata": {},
   "source": [
    "# URL Manipulation"
   ]
  },
  {
   "cell_type": "markdown",
   "id": "a62bf191-523f-49e9-bfa6-a04ca3edf9b0",
   "metadata": {},
   "source": [
    "The function below will be used to split our url into multiple parts.\n",
    "\n",
    "It will contain the domain and the path (everything after the first '/')"
   ]
  },
  {
   "cell_type": "code",
   "execution_count": 3,
   "id": "4f37fff1-ad2d-44a7-ba0a-35b7def75b6a",
   "metadata": {},
   "outputs": [],
   "source": [
    "def url_hacking(df):\n",
    "    \"\"\"\n",
    "    Given a data frame with column 'domain' that contains the full url, it will return a new dataframe with new feautres: domain and path.\n",
    "    \"\"\"\n",
    "    \n",
    "    # Set the domain as everything before the first /\n",
    "    col_domain = df['domain'].str.split('/').str[0]\n",
    "    \n",
    "    # Set the path as everything after first / but before any query string ?\n",
    "    path = df['domain'].str.split('/',1).str[1].fillna('')\n",
    "    col_path = path.str.split('?').str[0]\n",
    "    \n",
    "    # Create dataframe that will map to a pandas series\n",
    "    return pd.DataFrame(\n",
    "        {'domain': col_domain,\n",
    "         'path': col_path}\n",
    "    )\n",
    "\n",
    "url_transformer = FunctionTransformer(url_hacking)"
   ]
  },
  {
   "cell_type": "markdown",
   "id": "315c7596-f258-4af2-bc9c-8d66d15c5b84",
   "metadata": {},
   "source": [
    "# Feature Engineering"
   ]
  },
  {
   "cell_type": "markdown",
   "id": "c6a3ed41-5ddd-4ffc-8676-58eb7b23bbfc",
   "metadata": {},
   "source": [
    "Using our Domain and Path columns, we will create different features associated with them."
   ]
  },
  {
   "cell_type": "markdown",
   "id": "ee835bd8-3a5f-4735-9bc3-61c4cf2e831c",
   "metadata": {},
   "source": [
    "### Domain Feature Engineering"
   ]
  },
  {
   "cell_type": "code",
   "execution_count": 4,
   "id": "55cfaaa2-71fb-479e-905d-c808802de112",
   "metadata": {},
   "outputs": [],
   "source": [
    "def domain_feature_engineering(domain_list):\n",
    "    \"\"\"\n",
    "    This function will take in the domain column as a list.\n",
    "    \n",
    "    We will have have 4 features:\n",
    "    - length of domain\n",
    "    - number of dots in the domin\n",
    "    - top-level domain of the url\n",
    "    - sub domain of the url\n",
    "    \n",
    "    Function returns a list of dictionaries for each domain provided.\n",
    "    \"\"\"\n",
    "    \n",
    "    return [\n",
    "        {\n",
    "            \"length_domain\": len(domain),\n",
    "            \"count_of_dots\": domain.count('.'), \n",
    "            \"tld\": domain.rsplit('.')[-1],\n",
    "            \"subdomain\": domain.split('.')[0]\n",
    "        } for domain in domain_list\n",
    "    ]\n",
    "domain_transformer = FunctionTransformer(domain_feature_engineering)"
   ]
  },
  {
   "cell_type": "code",
   "execution_count": 5,
   "id": "85a7abbe-4846-4969-b21c-c543ad3abda5",
   "metadata": {},
   "outputs": [],
   "source": [
    "def path_feature_engineering(path_list):\n",
    "    \"\"\"\n",
    "    This function will takin the path column as a list.\n",
    "    \n",
    "    We will have 4 features:\n",
    "    - lenght of path\n",
    "    - number of slashes in path\n",
    "    - number of dots in path\n",
    "    \"\"\"\n",
    "    \n",
    "    return [\n",
    "        {\n",
    "            'length_path': len(path),\n",
    "            'count_of_slash': path.count('/'),\n",
    "            'count_dots':path.count('.')\n",
    "        } for path in path_list \n",
    "    ]\n",
    "path_transformer = FunctionTransformer(path_feature_engineering)"
   ]
  },
  {
   "cell_type": "markdown",
   "id": "3a17e8a4-a50c-4e52-9133-0e6e824e52c9",
   "metadata": {},
   "source": [
    "# Machine Learning Modeling"
   ]
  },
  {
   "cell_type": "markdown",
   "id": "14c823cd-533a-41d9-8e39-4280204d6173",
   "metadata": {},
   "source": [
    "Here we are going to create a machine learning pipeline that will use the url hacking, domain feature engineering, and path feature engineering.\n",
    "\n",
    "Some parts for this section:\n",
    "- Create Pipeline on a LinearSVC model\n",
    "- Create a param dict for different features in LinearSVC\n",
    "- Bring it all together"
   ]
  },
  {
   "cell_type": "markdown",
   "id": "46e3e645-db8c-4b7c-add0-e3a03ef99719",
   "metadata": {},
   "source": [
    "## Pipeline"
   ]
  },
  {
   "cell_type": "code",
   "execution_count": 11,
   "id": "12fb2f77-de96-4c1e-a67f-b047cce2915b",
   "metadata": {},
   "outputs": [
    {
     "data": {
      "text/html": [
       "<style>#sk-9022a3ea-b5c9-4b63-8e82-adf876d4b386 {color: black;background-color: white;}#sk-9022a3ea-b5c9-4b63-8e82-adf876d4b386 pre{padding: 0;}#sk-9022a3ea-b5c9-4b63-8e82-adf876d4b386 div.sk-toggleable {background-color: white;}#sk-9022a3ea-b5c9-4b63-8e82-adf876d4b386 label.sk-toggleable__label {cursor: pointer;display: block;width: 100%;margin-bottom: 0;padding: 0.3em;box-sizing: border-box;text-align: center;}#sk-9022a3ea-b5c9-4b63-8e82-adf876d4b386 label.sk-toggleable__label-arrow:before {content: \"▸\";float: left;margin-right: 0.25em;color: #696969;}#sk-9022a3ea-b5c9-4b63-8e82-adf876d4b386 label.sk-toggleable__label-arrow:hover:before {color: black;}#sk-9022a3ea-b5c9-4b63-8e82-adf876d4b386 div.sk-estimator:hover label.sk-toggleable__label-arrow:before {color: black;}#sk-9022a3ea-b5c9-4b63-8e82-adf876d4b386 div.sk-toggleable__content {max-height: 0;max-width: 0;overflow: hidden;text-align: left;background-color: #f0f8ff;}#sk-9022a3ea-b5c9-4b63-8e82-adf876d4b386 div.sk-toggleable__content pre {margin: 0.2em;color: black;border-radius: 0.25em;background-color: #f0f8ff;}#sk-9022a3ea-b5c9-4b63-8e82-adf876d4b386 input.sk-toggleable__control:checked~div.sk-toggleable__content {max-height: 200px;max-width: 100%;overflow: auto;}#sk-9022a3ea-b5c9-4b63-8e82-adf876d4b386 input.sk-toggleable__control:checked~label.sk-toggleable__label-arrow:before {content: \"▾\";}#sk-9022a3ea-b5c9-4b63-8e82-adf876d4b386 div.sk-estimator input.sk-toggleable__control:checked~label.sk-toggleable__label {background-color: #d4ebff;}#sk-9022a3ea-b5c9-4b63-8e82-adf876d4b386 div.sk-label input.sk-toggleable__control:checked~label.sk-toggleable__label {background-color: #d4ebff;}#sk-9022a3ea-b5c9-4b63-8e82-adf876d4b386 input.sk-hidden--visually {border: 0;clip: rect(1px 1px 1px 1px);clip: rect(1px, 1px, 1px, 1px);height: 1px;margin: -1px;overflow: hidden;padding: 0;position: absolute;width: 1px;}#sk-9022a3ea-b5c9-4b63-8e82-adf876d4b386 div.sk-estimator {font-family: monospace;background-color: #f0f8ff;border: 1px dotted black;border-radius: 0.25em;box-sizing: border-box;margin-bottom: 0.5em;}#sk-9022a3ea-b5c9-4b63-8e82-adf876d4b386 div.sk-estimator:hover {background-color: #d4ebff;}#sk-9022a3ea-b5c9-4b63-8e82-adf876d4b386 div.sk-parallel-item::after {content: \"\";width: 100%;border-bottom: 1px solid gray;flex-grow: 1;}#sk-9022a3ea-b5c9-4b63-8e82-adf876d4b386 div.sk-label:hover label.sk-toggleable__label {background-color: #d4ebff;}#sk-9022a3ea-b5c9-4b63-8e82-adf876d4b386 div.sk-serial::before {content: \"\";position: absolute;border-left: 1px solid gray;box-sizing: border-box;top: 2em;bottom: 0;left: 50%;}#sk-9022a3ea-b5c9-4b63-8e82-adf876d4b386 div.sk-serial {display: flex;flex-direction: column;align-items: center;background-color: white;padding-right: 0.2em;padding-left: 0.2em;}#sk-9022a3ea-b5c9-4b63-8e82-adf876d4b386 div.sk-item {z-index: 1;}#sk-9022a3ea-b5c9-4b63-8e82-adf876d4b386 div.sk-parallel {display: flex;align-items: stretch;justify-content: center;background-color: white;}#sk-9022a3ea-b5c9-4b63-8e82-adf876d4b386 div.sk-parallel::before {content: \"\";position: absolute;border-left: 1px solid gray;box-sizing: border-box;top: 2em;bottom: 0;left: 50%;}#sk-9022a3ea-b5c9-4b63-8e82-adf876d4b386 div.sk-parallel-item {display: flex;flex-direction: column;position: relative;background-color: white;}#sk-9022a3ea-b5c9-4b63-8e82-adf876d4b386 div.sk-parallel-item:first-child::after {align-self: flex-end;width: 50%;}#sk-9022a3ea-b5c9-4b63-8e82-adf876d4b386 div.sk-parallel-item:last-child::after {align-self: flex-start;width: 50%;}#sk-9022a3ea-b5c9-4b63-8e82-adf876d4b386 div.sk-parallel-item:only-child::after {width: 0;}#sk-9022a3ea-b5c9-4b63-8e82-adf876d4b386 div.sk-dashed-wrapped {border: 1px dashed gray;margin: 0 0.4em 0.5em 0.4em;box-sizing: border-box;padding-bottom: 0.4em;background-color: white;position: relative;}#sk-9022a3ea-b5c9-4b63-8e82-adf876d4b386 div.sk-label label {font-family: monospace;font-weight: bold;background-color: white;display: inline-block;line-height: 1.2em;}#sk-9022a3ea-b5c9-4b63-8e82-adf876d4b386 div.sk-label-container {position: relative;z-index: 2;text-align: center;}#sk-9022a3ea-b5c9-4b63-8e82-adf876d4b386 div.sk-container {/* jupyter's `normalize.less` sets `[hidden] { display: none; }` but bootstrap.min.css set `[hidden] { display: none !important; }` so we also need the `!important` here to be able to override the default hidden behavior on the sphinx rendered scikit-learn.org. See: https://github.com/scikit-learn/scikit-learn/issues/21755 */display: inline-block !important;position: relative;}#sk-9022a3ea-b5c9-4b63-8e82-adf876d4b386 div.sk-text-repr-fallback {display: none;}</style><div id=\"sk-9022a3ea-b5c9-4b63-8e82-adf876d4b386\" class=\"sk-top-container\"><div class=\"sk-text-repr-fallback\"><pre>Pipeline(steps=[(&#x27;prep&#x27;,\n",
       "                 FunctionTransformer(func=&lt;function url_hacking at 0x7f2799f7caf0&gt;)),\n",
       "                (&#x27;union&#x27;,\n",
       "                 ColumnTransformer(transformers=[(&#x27;domain_features&#x27;,\n",
       "                                                  Pipeline(steps=[(&#x27;features&#x27;,\n",
       "                                                                   FunctionTransformer(func=&lt;function domain_feature_engineering at 0x7f27995411f0&gt;)),\n",
       "                                                                  (&#x27;vect&#x27;,\n",
       "                                                                   DictVectorizer())]),\n",
       "                                                  &#x27;domain&#x27;),\n",
       "                                                 (&#x27;path_feautres&#x27;,\n",
       "                                                  Pipeline(steps=[(&#x27;features&#x27;,\n",
       "                                                                   FunctionTransformer(func=&lt;function path_feature_engineering at 0x7f2799541160&gt;)),\n",
       "                                                                  (&#x27;vect&#x27;,\n",
       "                                                                   DictVectorizer())]),\n",
       "                                                  &#x27;path&#x27;)])),\n",
       "                (&#x27;svc&#x27;, SVC(C=10, gamma=0.001))],\n",
       "         verbose=True)</pre><b>Please rerun this cell to show the HTML repr or trust the notebook.</b></div><div class=\"sk-container\" hidden><div class=\"sk-item sk-dashed-wrapped\"><div class=\"sk-label-container\"><div class=\"sk-label sk-toggleable\"><input class=\"sk-toggleable__control sk-hidden--visually\" id=\"babc8ebd-da52-4a61-b8ca-8291cfebe900\" type=\"checkbox\" ><label for=\"babc8ebd-da52-4a61-b8ca-8291cfebe900\" class=\"sk-toggleable__label sk-toggleable__label-arrow\">Pipeline</label><div class=\"sk-toggleable__content\"><pre>Pipeline(steps=[(&#x27;prep&#x27;,\n",
       "                 FunctionTransformer(func=&lt;function url_hacking at 0x7f2799f7caf0&gt;)),\n",
       "                (&#x27;union&#x27;,\n",
       "                 ColumnTransformer(transformers=[(&#x27;domain_features&#x27;,\n",
       "                                                  Pipeline(steps=[(&#x27;features&#x27;,\n",
       "                                                                   FunctionTransformer(func=&lt;function domain_feature_engineering at 0x7f27995411f0&gt;)),\n",
       "                                                                  (&#x27;vect&#x27;,\n",
       "                                                                   DictVectorizer())]),\n",
       "                                                  &#x27;domain&#x27;),\n",
       "                                                 (&#x27;path_feautres&#x27;,\n",
       "                                                  Pipeline(steps=[(&#x27;features&#x27;,\n",
       "                                                                   FunctionTransformer(func=&lt;function path_feature_engineering at 0x7f2799541160&gt;)),\n",
       "                                                                  (&#x27;vect&#x27;,\n",
       "                                                                   DictVectorizer())]),\n",
       "                                                  &#x27;path&#x27;)])),\n",
       "                (&#x27;svc&#x27;, SVC(C=10, gamma=0.001))],\n",
       "         verbose=True)</pre></div></div></div><div class=\"sk-serial\"><div class=\"sk-item\"><div class=\"sk-estimator sk-toggleable\"><input class=\"sk-toggleable__control sk-hidden--visually\" id=\"abc6792f-f10a-4d90-80cd-ad3e6d0c74ec\" type=\"checkbox\" ><label for=\"abc6792f-f10a-4d90-80cd-ad3e6d0c74ec\" class=\"sk-toggleable__label sk-toggleable__label-arrow\">FunctionTransformer</label><div class=\"sk-toggleable__content\"><pre>FunctionTransformer(func=&lt;function url_hacking at 0x7f2799f7caf0&gt;)</pre></div></div></div><div class=\"sk-item sk-dashed-wrapped\"><div class=\"sk-label-container\"><div class=\"sk-label sk-toggleable\"><input class=\"sk-toggleable__control sk-hidden--visually\" id=\"9045b43f-3149-43b2-8c1f-db0b3aba4e2b\" type=\"checkbox\" ><label for=\"9045b43f-3149-43b2-8c1f-db0b3aba4e2b\" class=\"sk-toggleable__label sk-toggleable__label-arrow\">union: ColumnTransformer</label><div class=\"sk-toggleable__content\"><pre>ColumnTransformer(transformers=[(&#x27;domain_features&#x27;,\n",
       "                                 Pipeline(steps=[(&#x27;features&#x27;,\n",
       "                                                  FunctionTransformer(func=&lt;function domain_feature_engineering at 0x7f27995411f0&gt;)),\n",
       "                                                 (&#x27;vect&#x27;, DictVectorizer())]),\n",
       "                                 &#x27;domain&#x27;),\n",
       "                                (&#x27;path_feautres&#x27;,\n",
       "                                 Pipeline(steps=[(&#x27;features&#x27;,\n",
       "                                                  FunctionTransformer(func=&lt;function path_feature_engineering at 0x7f2799541160&gt;)),\n",
       "                                                 (&#x27;vect&#x27;, DictVectorizer())]),\n",
       "                                 &#x27;path&#x27;)])</pre></div></div></div><div class=\"sk-parallel\"><div class=\"sk-parallel-item\"><div class=\"sk-item\"><div class=\"sk-label-container\"><div class=\"sk-label sk-toggleable\"><input class=\"sk-toggleable__control sk-hidden--visually\" id=\"ebba4e1c-94f6-45af-b0af-8e911547486a\" type=\"checkbox\" ><label for=\"ebba4e1c-94f6-45af-b0af-8e911547486a\" class=\"sk-toggleable__label sk-toggleable__label-arrow\">domain_features</label><div class=\"sk-toggleable__content\"><pre>domain</pre></div></div></div><div class=\"sk-serial\"><div class=\"sk-item\"><div class=\"sk-serial\"><div class=\"sk-item\"><div class=\"sk-estimator sk-toggleable\"><input class=\"sk-toggleable__control sk-hidden--visually\" id=\"a3a8cb2d-633f-4856-95b2-09cfcce26698\" type=\"checkbox\" ><label for=\"a3a8cb2d-633f-4856-95b2-09cfcce26698\" class=\"sk-toggleable__label sk-toggleable__label-arrow\">FunctionTransformer</label><div class=\"sk-toggleable__content\"><pre>FunctionTransformer(func=&lt;function domain_feature_engineering at 0x7f27995411f0&gt;)</pre></div></div></div><div class=\"sk-item\"><div class=\"sk-estimator sk-toggleable\"><input class=\"sk-toggleable__control sk-hidden--visually\" id=\"b2cc97a0-8c75-46ab-b24b-0833df00f191\" type=\"checkbox\" ><label for=\"b2cc97a0-8c75-46ab-b24b-0833df00f191\" class=\"sk-toggleable__label sk-toggleable__label-arrow\">DictVectorizer</label><div class=\"sk-toggleable__content\"><pre>DictVectorizer()</pre></div></div></div></div></div></div></div></div><div class=\"sk-parallel-item\"><div class=\"sk-item\"><div class=\"sk-label-container\"><div class=\"sk-label sk-toggleable\"><input class=\"sk-toggleable__control sk-hidden--visually\" id=\"bdc5ca55-f7e7-4357-a09a-f35dc2b6ebc3\" type=\"checkbox\" ><label for=\"bdc5ca55-f7e7-4357-a09a-f35dc2b6ebc3\" class=\"sk-toggleable__label sk-toggleable__label-arrow\">path_feautres</label><div class=\"sk-toggleable__content\"><pre>path</pre></div></div></div><div class=\"sk-serial\"><div class=\"sk-item\"><div class=\"sk-serial\"><div class=\"sk-item\"><div class=\"sk-estimator sk-toggleable\"><input class=\"sk-toggleable__control sk-hidden--visually\" id=\"a4936a5c-12fb-4e5e-918a-72986352914a\" type=\"checkbox\" ><label for=\"a4936a5c-12fb-4e5e-918a-72986352914a\" class=\"sk-toggleable__label sk-toggleable__label-arrow\">FunctionTransformer</label><div class=\"sk-toggleable__content\"><pre>FunctionTransformer(func=&lt;function path_feature_engineering at 0x7f2799541160&gt;)</pre></div></div></div><div class=\"sk-item\"><div class=\"sk-estimator sk-toggleable\"><input class=\"sk-toggleable__control sk-hidden--visually\" id=\"ae50d380-cc8d-4944-9622-4ea152e7cfbd\" type=\"checkbox\" ><label for=\"ae50d380-cc8d-4944-9622-4ea152e7cfbd\" class=\"sk-toggleable__label sk-toggleable__label-arrow\">DictVectorizer</label><div class=\"sk-toggleable__content\"><pre>DictVectorizer()</pre></div></div></div></div></div></div></div></div></div></div><div class=\"sk-item\"><div class=\"sk-estimator sk-toggleable\"><input class=\"sk-toggleable__control sk-hidden--visually\" id=\"bf105b57-3990-447c-b962-8e3335c277d4\" type=\"checkbox\" ><label for=\"bf105b57-3990-447c-b962-8e3335c277d4\" class=\"sk-toggleable__label sk-toggleable__label-arrow\">SVC</label><div class=\"sk-toggleable__content\"><pre>SVC(C=10, gamma=0.001)</pre></div></div></div></div></div></div></div>"
      ],
      "text/plain": [
       "Pipeline(steps=[('prep',\n",
       "                 FunctionTransformer(func=<function url_hacking at 0x7f2799f7caf0>)),\n",
       "                ('union',\n",
       "                 ColumnTransformer(transformers=[('domain_features',\n",
       "                                                  Pipeline(steps=[('features',\n",
       "                                                                   FunctionTransformer(func=<function domain_feature_engineering at 0x7f27995411f0>)),\n",
       "                                                                  ('vect',\n",
       "                                                                   DictVectorizer())]),\n",
       "                                                  'domain'),\n",
       "                                                 ('path_feautres',\n",
       "                                                  Pipeline(steps=[('features',\n",
       "                                                                   FunctionTransformer(func=<function path_feature_engineering at 0x7f2799541160>)),\n",
       "                                                                  ('vect',\n",
       "                                                                   DictVectorizer())]),\n",
       "                                                  'path')])),\n",
       "                ('svc', SVC(C=10, gamma=0.001))],\n",
       "         verbose=True)"
      ]
     },
     "execution_count": 11,
     "metadata": {},
     "output_type": "execute_result"
    }
   ],
   "source": [
    "def create_pipeline(urlTransformer, domainTransformer, pathTransformer):\n",
    "    \"\"\"\n",
    "    Function will create and return a pipeline using the features created above.\n",
    "    \n",
    "    3 parameters will be passed in:\n",
    "    - Url transformer - created from url manipulation\n",
    "    - Domain transformer - create from domain feature engineering\n",
    "    - Path transformer - created from path feautre engineering\n",
    "    \n",
    "    Aspects:\n",
    "    - Use ColumnTransformer to combine the subject (url) and body features (feature engineering)\n",
    "    \"\"\"\n",
    "    return Pipeline(\n",
    "        [\n",
    "            (\"prep\", urlTransformer),\n",
    "                (\n",
    "                    \"union\",\n",
    "                    ColumnTransformer([\n",
    "                        (\n",
    "                            \"domain_features\",\n",
    "                            Pipeline([\n",
    "                                (\"features\", domainTransformer),\n",
    "                                (\"vect\", DictVectorizer(),)\n",
    "                            ]), \"domain\",\n",
    "                        ),\n",
    "                        (\n",
    "                            \"path_feautres\",\n",
    "                            Pipeline([\n",
    "                                (\"features\", pathTransformer),\n",
    "                                (\"vect\", DictVectorizer(),)\n",
    "                            ]), \"path\",\n",
    "                        )\n",
    "                    ],)\n",
    "                ),\n",
    "            (\"svc\", SVC(kernel = 'rbf', gamma = 1e-3, C = 10)),\n",
    "        ], verbose= True,\n",
    "    )\n",
    "\n",
    "pipe = create_pipeline(url_transformer, domain_transformer, path_transformer)\n",
    "\n",
    "\n",
    "\n",
    "# Below will show the pipline in a Diagram for a better view\n",
    "set_config(display=\"diagram\")\n",
    "pipe"
   ]
  },
  {
   "cell_type": "markdown",
   "id": "2bb4dc96-07da-4205-92b4-114042fd66ab",
   "metadata": {},
   "source": [
    "## Building Model"
   ]
  },
  {
   "cell_type": "code",
   "execution_count": 30,
   "id": "d3782ced-3caf-48b1-be6c-9106c041dcce",
   "metadata": {},
   "outputs": [
    {
     "name": "stdout",
     "output_type": "stream",
     "text": [
      "[Pipeline] .............. (step 1 of 3) Processing prep, total=   0.4s\n",
      "[Pipeline] ............. (step 2 of 3) Processing union, total=   0.6s\n",
      "[Pipeline] ............... (step 3 of 3) Processing svc, total= 1.5min\n"
     ]
    }
   ],
   "source": [
    "def create_clf(clf, data):\n",
    "    \"\"\"\n",
    "    Function will take in the pipeline created above and our original dataset to split for train and test sets. \n",
    "    \n",
    "    We will use this space to pass in a set of parameters to the pipeline.\n",
    "    Then, fit the classifier with the train and testing data\n",
    "    \n",
    "    Function will return the classifier, the classification report, and the overall acccuracies. \"\"\"\n",
    "    \n",
    "    X, y = data[['domain']], data['label']\n",
    "    X_train, X_test, y_train, y_test = train_test_split(X, y, random_state=42)\n",
    "\n",
    "    clf = clf.fit(X_train, y_train)\n",
    "    predict_vals = clf.predict(X_test)\n",
    "    clf_report = classification_report(y_test, predict_vals)\n",
    "    \n",
    "    overall_accuracy_train = round(clf.score(X_train, y_train), 2) * 100\n",
    "    overall_accuracy_test = round(clf.score(X_test, y_test), 2) * 100\n",
    "    \n",
    "    return clf, clf_report, overall_accuracy_train, overall_accuracy_test \n",
    "\n",
    "classifier, report, train_acc, test_acc = create_clf(pipe, df)"
   ]
  },
  {
   "cell_type": "code",
   "execution_count": 31,
   "id": "3ab1cea8-d016-42fd-9bb5-1d6543a6d579",
   "metadata": {},
   "outputs": [
    {
     "name": "stdout",
     "output_type": "stream",
     "text": [
      "Classification Report for our model:\n",
      "\n",
      "              precision    recall  f1-score   support\n",
      "\n",
      "         0.0       0.86      0.90      0.88     11951\n",
      "         1.0       0.90      0.85      0.87     12028\n",
      "\n",
      "    accuracy                           0.88     23979\n",
      "   macro avg       0.88      0.88      0.88     23979\n",
      "weighted avg       0.88      0.88      0.88     23979\n",
      "\n"
     ]
    }
   ],
   "source": [
    "print(f'Classification Report for our model:\\n\\n{report}')"
   ]
  },
  {
   "cell_type": "code",
   "execution_count": 32,
   "id": "8ee134eb-5ebc-4d50-81e8-bd899f2e5a45",
   "metadata": {},
   "outputs": [
    {
     "name": "stdout",
     "output_type": "stream",
     "text": [
      "Overall Accuracy on our training data: 88.0\n",
      "Overall Accuracy on our testing data: 88.0\n"
     ]
    }
   ],
   "source": [
    "print(f'Overall Accuracy on our training data: {train_acc}')\n",
    "print(f'Overall Accuracy on our testing data: {test_acc}')"
   ]
  },
  {
   "cell_type": "markdown",
   "id": "467d6dd2-6ea7-4faa-bfe5-6342505a9f1e",
   "metadata": {},
   "source": [
    "Results:\n",
    "\n",
    "From our feature engineering, to our pipeline, to our modeling, we finally have our model's results.\n",
    "\n",
    "URLS not considered phishing urls\n",
    "- We have a precision value of 86% on values that are not phishing urls with a recall of 90%\n",
    "    - This means that when a url that is not considered a phishing url is passed into the model, it will correctly identify it as a \"not phishing url\" 86% of the time. \n",
    "    - On the other hand, if there is a url present in the data that is not a phishing url, the model can identify it 90% of the time.\n",
    "\n",
    "URLS considered phishing urls\n",
    "- We have a precision value of 90% on values that are phishing urls with a recall of 85%\n",
    "    - This means that when a url that is considered a phishing url is passed into the model, it will correctly identify it as a \"phishing url\" 90% of the time. \n",
    "    - On the other hand, if there is a url present in the data that is a phishing url, the model can identify it 86% of the time."
   ]
  },
  {
   "cell_type": "markdown",
   "id": "bd1593c4-13a2-4234-b4ea-bb252c603618",
   "metadata": {},
   "source": [
    "<br>\n",
    "\n",
    "<br>\n",
    "\n",
    "<br>\n",
    "\n",
    "<br>"
   ]
  },
  {
   "cell_type": "markdown",
   "id": "c879da06-beca-4a35-86c1-a27be1854f82",
   "metadata": {},
   "source": [
    "#### For testing"
   ]
  },
  {
   "cell_type": "code",
   "execution_count": 26,
   "id": "c13cc82b-e021-4426-8c72-9a2211e61731",
   "metadata": {},
   "outputs": [
    {
     "data": {
      "text/html": [
       "<div>\n",
       "<style scoped>\n",
       "    .dataframe tbody tr th:only-of-type {\n",
       "        vertical-align: middle;\n",
       "    }\n",
       "\n",
       "    .dataframe tbody tr th {\n",
       "        vertical-align: top;\n",
       "    }\n",
       "\n",
       "    .dataframe thead th {\n",
       "        text-align: right;\n",
       "    }\n",
       "</style>\n",
       "<table border=\"1\" class=\"dataframe\">\n",
       "  <thead>\n",
       "    <tr style=\"text-align: right;\">\n",
       "      <th></th>\n",
       "      <th>domain</th>\n",
       "      <th>path</th>\n",
       "    </tr>\n",
       "  </thead>\n",
       "  <tbody>\n",
       "    <tr>\n",
       "      <th>0</th>\n",
       "      <td>nobell.it</td>\n",
       "      <td>70ffb52d079109dca5664cce6f317373782/login.SkyP...</td>\n",
       "    </tr>\n",
       "    <tr>\n",
       "      <th>1</th>\n",
       "      <td>www.dghjdgf.com</td>\n",
       "      <td>paypal.co.uk/cycgi-bin/webscrcmd=_home-custome...</td>\n",
       "    </tr>\n",
       "    <tr>\n",
       "      <th>2</th>\n",
       "      <td>serviciosbys.com</td>\n",
       "      <td>paypal.cgi.bin.get-into.herf.secure.dispatch35...</td>\n",
       "    </tr>\n",
       "    <tr>\n",
       "      <th>3</th>\n",
       "      <td>mail.printakid.com</td>\n",
       "      <td>www.online.americanexpress.com/index.html</td>\n",
       "    </tr>\n",
       "    <tr>\n",
       "      <th>4</th>\n",
       "      <td>thewhiskeydregs.com</td>\n",
       "      <td>wp-content/themes/widescreen/includes/temp/pro...</td>\n",
       "    </tr>\n",
       "  </tbody>\n",
       "</table>\n",
       "</div>"
      ],
      "text/plain": [
       "                domain                                               path\n",
       "0            nobell.it  70ffb52d079109dca5664cce6f317373782/login.SkyP...\n",
       "1      www.dghjdgf.com  paypal.co.uk/cycgi-bin/webscrcmd=_home-custome...\n",
       "2     serviciosbys.com  paypal.cgi.bin.get-into.herf.secure.dispatch35...\n",
       "3   mail.printakid.com          www.online.americanexpress.com/index.html\n",
       "4  thewhiskeydregs.com  wp-content/themes/widescreen/includes/temp/pro..."
      ]
     },
     "execution_count": 26,
     "metadata": {},
     "output_type": "execute_result"
    }
   ],
   "source": [
    "\"\"\"\n",
    "URL MANIPUTLATION TESTING\n",
    "\n",
    "We want to check that the URL provided is split up appropriately.\n",
    "\n",
    "Example:\n",
    "url = www.google.com/skjgnfksjfnksjfn/ksjnfdkjsndf/lohf.sjkdfksjnf\n",
    "\n",
    "Feed into url_hacking(df)\n",
    "\n",
    "Output:\n",
    "\n",
    "domain                path\n",
    "www.google.com        skjgnfksjfnksjfn/ksjnfdkjsndf/lohf.sjkdfksjnf\n",
    "\n",
    "\n",
    "\"\"\"\n",
    "test = url_hacking(df)\n",
    "test.head(5)"
   ]
  },
  {
   "cell_type": "code",
   "execution_count": 27,
   "id": "acb273f6-a661-4fdf-bfef-3aaa650de779",
   "metadata": {},
   "outputs": [
    {
     "name": "stdout",
     "output_type": "stream",
     "text": [
      "{'length_domain': 9, 'count_of_dots': 1, 'tld': 'it', 'subdomain': 'nobell'}\n",
      "{'length_domain': 15, 'count_of_dots': 2, 'tld': 'com', 'subdomain': 'www'}\n",
      "{'length_domain': 16, 'count_of_dots': 1, 'tld': 'com', 'subdomain': 'serviciosbys'}\n",
      "{'length_domain': 18, 'count_of_dots': 2, 'tld': 'com', 'subdomain': 'mail'}\n",
      "{'length_domain': 19, 'count_of_dots': 1, 'tld': 'com', 'subdomain': 'thewhiskeydregs'}\n",
      "{'length_domain': 25, 'count_of_dots': 2, 'tld': 'org', 'subdomain': 'smilesvoegol'}\n",
      "{'length_domain': 28, 'count_of_dots': 1, 'tld': 'com', 'subdomain': 'premierpaymentprocessing'}\n",
      "{'length_domain': 19, 'count_of_dots': 1, 'tld': 'com', 'subdomain': 'myxxxcollection'}\n",
      "{'length_domain': 14, 'count_of_dots': 1, 'tld': 'info', 'subdomain': 'super1000'}\n",
      "{'length_domain': 19, 'count_of_dots': 1, 'tld': 'com', 'subdomain': 'horizonsgallery'}\n"
     ]
    }
   ],
   "source": [
    "\"\"\"\n",
    "DOMAIN FEATURE ENGINEERING TEST\n",
    "\n",
    "We want to make sure that if a list of domains is provided to the function, it will return\n",
    "length of domain, count of dots in domain, top-level domain, and subdomain.\n",
    "\n",
    "Example\n",
    "url = www.google.com\n",
    "\n",
    "Output:\n",
    "{'length_domain': 14, 'count_of_dots': 2, 'tld': '.com', 'subdomain':'www'}\n",
    "\n",
    "\n",
    "\"\"\"\n",
    "\n",
    "\n",
    "domain_list = test['domain'].tolist()\n",
    "dl = domain_list[:10]\n",
    "output_test_domain = domain_feature_engineering(dl)\n",
    "for i in output_test_domain:\n",
    "    print(i)"
   ]
  },
  {
   "cell_type": "code",
   "execution_count": 28,
   "id": "b225e7b1-b8f0-4606-b9b5-f03afb1d0c9a",
   "metadata": {},
   "outputs": [
    {
     "name": "stdout",
     "output_type": "stream",
     "text": [
      "{'length_path': 124, 'count_of_slash': 7, 'count_dots': 3}\n",
      "{'length_path': 65, 'count_of_slash': 3, 'count_dots': 3}\n",
      "{'length_path': 160, 'count_of_slash': 10, 'count_dots': 6}\n",
      "{'length_path': 41, 'count_of_slash': 1, 'count_dots': 4}\n",
      "{'length_path': 59, 'count_of_slash': 6, 'count_dots': 0}\n",
      "{'length_path': 10, 'count_of_slash': 0, 'count_dots': 1}\n",
      "{'length_path': 32, 'count_of_slash': 1, 'count_dots': 1}\n",
      "{'length_path': 40, 'count_of_slash': 5, 'count_dots': 4}\n",
      "{'length_path': 4, 'count_of_slash': 0, 'count_dots': 0}\n",
      "{'length_path': 80, 'count_of_slash': 9, 'count_dots': 3}\n"
     ]
    }
   ],
   "source": [
    "\"\"\"\n",
    "PATH FEATURE ENGINEERING TEST\n",
    "\n",
    "We want to make sure that if a list of paths is provided to the function, it will return\n",
    "length of path, count of dots in path and count of slashes in path.\n",
    "\n",
    "Example\n",
    "path = lohf.sjkdfksjn\n",
    "\n",
    "Output:\n",
    "{'length_path': 14, 'count_of_slash': 0, 'count_of_dots': 1}\n",
    "\n",
    "\n",
    "\"\"\"\n",
    "\n",
    "\n",
    "path_list = test['path'].tolist()\n",
    "pl = path_list[:10]\n",
    "output_test_path = path_feature_engineering(pl)\n",
    "for i in output_test_path:\n",
    "    print(i)"
   ]
  },
  {
   "cell_type": "code",
   "execution_count": null,
   "id": "c8d444c1-ea68-4cd9-af1a-bfb4e4e3adce",
   "metadata": {},
   "outputs": [],
   "source": []
  }
 ],
 "metadata": {
  "kernelspec": {
   "display_name": "Python 3 (ipykernel)",
   "language": "python",
   "name": "python3"
  },
  "language_info": {
   "codemirror_mode": {
    "name": "ipython",
    "version": 3
   },
   "file_extension": ".py",
   "mimetype": "text/x-python",
   "name": "python",
   "nbconvert_exporter": "python",
   "pygments_lexer": "ipython3",
   "version": "3.9.7"
  }
 },
 "nbformat": 4,
 "nbformat_minor": 5
}
